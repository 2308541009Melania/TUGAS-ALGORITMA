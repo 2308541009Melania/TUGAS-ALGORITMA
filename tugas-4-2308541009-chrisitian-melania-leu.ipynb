{
 "cells": [
  {
   "cell_type": "code",
   "execution_count": 1,
   "id": "51b34703",
   "metadata": {
    "_cell_guid": "b1076dfc-b9ad-4769-8c92-a6c4dae69d19",
    "_uuid": "8f2839f25d086af736a60e9eeb907d3b93b6e0e5",
    "execution": {
     "iopub.execute_input": "2024-04-16T12:43:35.829533Z",
     "iopub.status.busy": "2024-04-16T12:43:35.828803Z",
     "iopub.status.idle": "2024-04-16T12:43:35.841182Z",
     "shell.execute_reply": "2024-04-16T12:43:35.840426Z"
    },
    "papermill": {
     "duration": 0.017961,
     "end_time": "2024-04-16T12:43:35.843164",
     "exception": false,
     "start_time": "2024-04-16T12:43:35.825203",
     "status": "completed"
    },
    "tags": []
   },
   "outputs": [
    {
     "name": "stdout",
     "output_type": "stream",
     "text": [
      "{'kuda': 2, 'kucing': 1, 'kelinci': 3, 'zebra': 2}\n",
      "Hewan yang mengandung huruf 'i' adalah : kucing, kelinci, kelinci, kelinci\n"
     ]
    }
   ],
   "source": [
    "hewan = ['kuda','kucing','kelinci','zebra','zebra','kelinci', 'kuda','kelinci']\n",
    "hitung_hewan = {}\n",
    "hewan_dengan_huruf_i = []\n",
    "for h in hewan:\n",
    "    if h in hitung_hewan:\n",
    "        hitung_hewan[h]+=1\n",
    "    else:\n",
    "        hitung_hewan[h]=1\n",
    "\n",
    "for h in hewan:\n",
    "    if 'i' in h:\n",
    "        hewan_dengan_huruf_i.append(h)\n",
    "\n",
    "print(hitung_hewan)\n",
    "print(f\"Hewan yang mengandung huruf 'i' adalah : {', '.join(hewan_dengan_huruf_i)}\")\n"
   ]
  },
  {
   "cell_type": "code",
   "execution_count": 2,
   "id": "e1ce1196",
   "metadata": {
    "execution": {
     "iopub.execute_input": "2024-04-16T12:43:35.848276Z",
     "iopub.status.busy": "2024-04-16T12:43:35.847642Z",
     "iopub.status.idle": "2024-04-16T12:43:35.853058Z",
     "shell.execute_reply": "2024-04-16T12:43:35.852367Z"
    },
    "papermill": {
     "duration": 0.009971,
     "end_time": "2024-04-16T12:43:35.855022",
     "exception": false,
     "start_time": "2024-04-16T12:43:35.845051",
     "status": "completed"
    },
    "tags": []
   },
   "outputs": [
    {
     "name": "stdout",
     "output_type": "stream",
     "text": [
      "3\n",
      "False\n",
      "86\n",
      "90\n",
      "79\n"
     ]
    }
   ],
   "source": [
    "nilai_Intan = ['80','70','97']\n",
    "nilai_Alan = ['92','95','90']\n",
    "nilai_Yuyun = ['86','90','79']\n",
    " \n",
    "print(len(nilai_Intan))\n",
    "print('79' in nilai_Alan)\n",
    "for nilai in nilai_Yuyun:\n",
    "    print(nilai)\n"
   ]
  }
 ],
 "metadata": {
  "kaggle": {
   "accelerator": "none",
   "dataSources": [],
   "dockerImageVersionId": 30684,
   "isGpuEnabled": false,
   "isInternetEnabled": false,
   "language": "python",
   "sourceType": "notebook"
  },
  "kernelspec": {
   "display_name": "Python 3",
   "language": "python",
   "name": "python3"
  },
  "language_info": {
   "codemirror_mode": {
    "name": "ipython",
    "version": 3
   },
   "file_extension": ".py",
   "mimetype": "text/x-python",
   "name": "python",
   "nbconvert_exporter": "python",
   "pygments_lexer": "ipython3",
   "version": "3.10.13"
  },
  "papermill": {
   "default_parameters": {},
   "duration": 3.043191,
   "end_time": "2024-04-16T12:43:36.174826",
   "environment_variables": {},
   "exception": null,
   "input_path": "__notebook__.ipynb",
   "output_path": "__notebook__.ipynb",
   "parameters": {},
   "start_time": "2024-04-16T12:43:33.131635",
   "version": "2.5.0"
  }
 },
 "nbformat": 4,
 "nbformat_minor": 5
}
