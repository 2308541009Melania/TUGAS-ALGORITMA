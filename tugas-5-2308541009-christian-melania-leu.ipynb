{
 "cells": [
  {
   "cell_type": "code",
   "execution_count": 1,
   "id": "387f728f",
   "metadata": {
    "_cell_guid": "b1076dfc-b9ad-4769-8c92-a6c4dae69d19",
    "_uuid": "8f2839f25d086af736a60e9eeb907d3b93b6e0e5",
    "execution": {
     "iopub.execute_input": "2024-04-23T13:17:07.366249Z",
     "iopub.status.busy": "2024-04-23T13:17:07.365806Z",
     "iopub.status.idle": "2024-04-23T13:17:07.763090Z",
     "shell.execute_reply": "2024-04-23T13:17:07.761679Z"
    },
    "papermill": {
     "duration": 0.404879,
     "end_time": "2024-04-23T13:17:07.765052",
     "exception": true,
     "start_time": "2024-04-23T13:17:07.360173",
     "status": "failed"
    },
    "tags": []
   },
   "outputs": [
    {
     "ename": "StdinNotImplementedError",
     "evalue": "raw_input was called, but this frontend does not support input requests.",
     "output_type": "error",
     "traceback": [
      "\u001b[0;31m---------------------------------------------------------------------------\u001b[0m",
      "\u001b[0;31mStdinNotImplementedError\u001b[0m                  Traceback (most recent call last)",
      "Cell \u001b[0;32mIn[1], line 1\u001b[0m\n\u001b[0;32m----> 1\u001b[0m nama_mahasiswa_09 \u001b[38;5;241m=\u001b[39m \u001b[38;5;28;43minput\u001b[39;49m\u001b[43m(\u001b[49m\u001b[38;5;124;43m'\u001b[39;49m\u001b[38;5;124;43msiapakah nama anda?\u001b[39;49m\u001b[38;5;124;43m'\u001b[39;49m\u001b[43m)\u001b[49m\n\u001b[1;32m      2\u001b[0m nama_unik_09 \u001b[38;5;241m=\u001b[39m []\n\u001b[1;32m      3\u001b[0m \u001b[38;5;28;01mfor\u001b[39;00m anggota \u001b[38;5;129;01min\u001b[39;00m nama_mahasiswa_09:\n",
      "File \u001b[0;32m/opt/conda/lib/python3.10/site-packages/ipykernel/kernelbase.py:1261\u001b[0m, in \u001b[0;36mKernel.raw_input\u001b[0;34m(self, prompt)\u001b[0m\n\u001b[1;32m   1259\u001b[0m \u001b[38;5;28;01mif\u001b[39;00m \u001b[38;5;129;01mnot\u001b[39;00m \u001b[38;5;28mself\u001b[39m\u001b[38;5;241m.\u001b[39m_allow_stdin:\n\u001b[1;32m   1260\u001b[0m     msg \u001b[38;5;241m=\u001b[39m \u001b[38;5;124m\"\u001b[39m\u001b[38;5;124mraw_input was called, but this frontend does not support input requests.\u001b[39m\u001b[38;5;124m\"\u001b[39m\n\u001b[0;32m-> 1261\u001b[0m     \u001b[38;5;28;01mraise\u001b[39;00m StdinNotImplementedError(msg)\n\u001b[1;32m   1262\u001b[0m \u001b[38;5;28;01mreturn\u001b[39;00m \u001b[38;5;28mself\u001b[39m\u001b[38;5;241m.\u001b[39m_input_request(\n\u001b[1;32m   1263\u001b[0m     \u001b[38;5;28mstr\u001b[39m(prompt),\n\u001b[1;32m   1264\u001b[0m     \u001b[38;5;28mself\u001b[39m\u001b[38;5;241m.\u001b[39m_parent_ident[\u001b[38;5;124m\"\u001b[39m\u001b[38;5;124mshell\u001b[39m\u001b[38;5;124m\"\u001b[39m],\n\u001b[1;32m   1265\u001b[0m     \u001b[38;5;28mself\u001b[39m\u001b[38;5;241m.\u001b[39mget_parent(\u001b[38;5;124m\"\u001b[39m\u001b[38;5;124mshell\u001b[39m\u001b[38;5;124m\"\u001b[39m),\n\u001b[1;32m   1266\u001b[0m     password\u001b[38;5;241m=\u001b[39m\u001b[38;5;28;01mFalse\u001b[39;00m,\n\u001b[1;32m   1267\u001b[0m )\n",
      "\u001b[0;31mStdinNotImplementedError\u001b[0m: raw_input was called, but this frontend does not support input requests."
     ]
    }
   ],
   "source": [
    "nama_mahasiswa_09 = input('siapakah nama anda?')\n",
    "nama_unik_09 = []\n",
    "for anggota in nama_mahasiswa_09:\n",
    "    if anggota not in nama_unik_09:\n",
    "        nama_unik_09.append(anggota)\n",
    "print(nama_unik_09)\n"
   ]
  },
  {
   "cell_type": "code",
   "execution_count": null,
   "id": "4f197e6e",
   "metadata": {
    "execution": {
     "iopub.execute_input": "2024-04-23T13:11:51.329282Z",
     "iopub.status.busy": "2024-04-23T13:11:51.328874Z",
     "iopub.status.idle": "2024-04-23T13:11:51.334344Z",
     "shell.execute_reply": "2024-04-23T13:11:51.333359Z",
     "shell.execute_reply.started": "2024-04-23T13:11:51.329251Z"
    },
    "papermill": {
     "duration": null,
     "end_time": null,
     "exception": null,
     "start_time": null,
     "status": "pending"
    },
    "tags": []
   },
   "outputs": [],
   "source": [
    "angka_09 = range(20)\n",
    "print(angka_09)"
   ]
  },
  {
   "cell_type": "code",
   "execution_count": null,
   "id": "fa8ffbce",
   "metadata": {
    "execution": {
     "iopub.execute_input": "2024-04-23T08:32:57.658045Z",
     "iopub.status.busy": "2024-04-23T08:32:57.656793Z",
     "iopub.status.idle": "2024-04-23T08:32:57.664602Z",
     "shell.execute_reply": "2024-04-23T08:32:57.663342Z",
     "shell.execute_reply.started": "2024-04-23T08:32:57.657993Z"
    },
    "papermill": {
     "duration": null,
     "end_time": null,
     "exception": null,
     "start_time": null,
     "status": "pending"
    },
    "tags": []
   },
   "outputs": [],
   "source": [
    "for isi_09 in range(20,5,-1):\n",
    "    print(isi_09)"
   ]
  },
  {
   "cell_type": "code",
   "execution_count": null,
   "id": "517f848f",
   "metadata": {
    "execution": {
     "iopub.execute_input": "2024-04-23T08:33:58.067993Z",
     "iopub.status.busy": "2024-04-23T08:33:58.066699Z",
     "iopub.status.idle": "2024-04-23T08:33:58.074940Z",
     "shell.execute_reply": "2024-04-23T08:33:58.073647Z",
     "shell.execute_reply.started": "2024-04-23T08:33:58.067933Z"
    },
    "papermill": {
     "duration": null,
     "end_time": null,
     "exception": null,
     "start_time": null,
     "status": "pending"
    },
    "tags": []
   },
   "outputs": [],
   "source": [
    "for isi_09 in range(20,5,-1):\n",
    "    print(isi_09)"
   ]
  },
  {
   "cell_type": "code",
   "execution_count": null,
   "id": "6333a47e",
   "metadata": {
    "execution": {
     "iopub.execute_input": "2024-04-23T10:36:48.055019Z",
     "iopub.status.busy": "2024-04-23T10:36:48.054042Z",
     "iopub.status.idle": "2024-04-23T10:36:50.967237Z",
     "shell.execute_reply": "2024-04-23T10:36:50.965986Z",
     "shell.execute_reply.started": "2024-04-23T10:36:48.054978Z"
    },
    "papermill": {
     "duration": null,
     "end_time": null,
     "exception": null,
     "start_time": null,
     "status": "pending"
    },
    "tags": []
   },
   "outputs": [],
   "source": [
    "data_mahasiswa_09 =[\n",
    "    [\"Melani\",79,60],\n",
    "    [\"Laila\",90,92],\n",
    "    [\"Gina\",75,84]\n",
    "]\n",
    "nama_09 = input('Masukkan nama mahasiswa:')\n",
    "indeks_09 = 1\n",
    "if indeks_09 >= 0 and indeks_09 < len(data_mahasiswa_09):\n",
    "    print(\"Nama:\",data_mahasiswa_09[indeks_09][0])\n",
    "    print(\"Nilai Kalkulus:\",data_mahasiswa_09[indeks_09][1])\n",
    "    print(\"Nilai Statistika:\",data_mahasiswa_09[indeks_09][2])\n",
    "else:\n",
    "    print('indeks tidak valid')"
   ]
  },
  {
   "cell_type": "code",
   "execution_count": null,
   "id": "206e7094",
   "metadata": {
    "execution": {
     "iopub.execute_input": "2024-04-23T10:44:00.596367Z",
     "iopub.status.busy": "2024-04-23T10:44:00.595985Z",
     "iopub.status.idle": "2024-04-23T10:44:00.602271Z",
     "shell.execute_reply": "2024-04-23T10:44:00.600903Z",
     "shell.execute_reply.started": "2024-04-23T10:44:00.596338Z"
    },
    "papermill": {
     "duration": null,
     "end_time": null,
     "exception": null,
     "start_time": null,
     "status": "pending"
    },
    "tags": []
   },
   "outputs": [],
   "source": [
    "minuman_09 = ('es teh', 'jus', 'fanta', 'susu', 'kopi', 'aqua')\n",
    "for isi in minuman_09:\n",
    "    print(isi)"
   ]
  },
  {
   "cell_type": "code",
   "execution_count": null,
   "id": "8515ffa6",
   "metadata": {
    "execution": {
     "iopub.execute_input": "2024-04-23T10:47:31.404021Z",
     "iopub.status.busy": "2024-04-23T10:47:31.403625Z",
     "iopub.status.idle": "2024-04-23T10:47:31.409442Z",
     "shell.execute_reply": "2024-04-23T10:47:31.408345Z",
     "shell.execute_reply.started": "2024-04-23T10:47:31.403987Z"
    },
    "papermill": {
     "duration": null,
     "end_time": null,
     "exception": null,
     "start_time": null,
     "status": "pending"
    },
    "tags": []
   },
   "outputs": [],
   "source": [
    "print(minuman_09[0:6])"
   ]
  },
  {
   "cell_type": "code",
   "execution_count": null,
   "id": "4e7e6bd0",
   "metadata": {
    "execution": {
     "iopub.execute_input": "2024-04-23T11:59:57.980700Z",
     "iopub.status.busy": "2024-04-23T11:59:57.980308Z",
     "iopub.status.idle": "2024-04-23T11:59:57.986220Z",
     "shell.execute_reply": "2024-04-23T11:59:57.985527Z",
     "shell.execute_reply.started": "2024-04-23T11:59:57.980659Z"
    },
    "papermill": {
     "duration": null,
     "end_time": null,
     "exception": null,
     "start_time": null,
     "status": "pending"
    },
    "tags": []
   },
   "outputs": [],
   "source": [
    "hewan_09 = {\n",
    "    'b':'2',\n",
    "    'a':'1',\n",
    "    'i':'9'   \n",
    "}\n",
    "nama_hewan_09 = 'babi'\n",
    "nomor_huruf_09 = \"\"\n",
    "for isi in nama_hewan_09:\n",
    "    nomor_huruf_09 += hewan_09.get(isi)+\"\"\n",
    "print(nomor_huruf_09)\n"
   ]
  }
 ],
 "metadata": {
  "kaggle": {
   "accelerator": "none",
   "dataSources": [],
   "dockerImageVersionId": 30698,
   "isGpuEnabled": false,
   "isInternetEnabled": false,
   "language": "python",
   "sourceType": "notebook"
  },
  "kernelspec": {
   "display_name": "Python 3",
   "language": "python",
   "name": "python3"
  },
  "language_info": {
   "codemirror_mode": {
    "name": "ipython",
    "version": 3
   },
   "file_extension": ".py",
   "mimetype": "text/x-python",
   "name": "python",
   "nbconvert_exporter": "python",
   "pygments_lexer": "ipython3",
   "version": "3.10.13"
  },
  "papermill": {
   "default_parameters": {},
   "duration": 3.677957,
   "end_time": "2024-04-23T13:17:08.287574",
   "environment_variables": {},
   "exception": true,
   "input_path": "__notebook__.ipynb",
   "output_path": "__notebook__.ipynb",
   "parameters": {},
   "start_time": "2024-04-23T13:17:04.609617",
   "version": "2.5.0"
  }
 },
 "nbformat": 4,
 "nbformat_minor": 5
}
