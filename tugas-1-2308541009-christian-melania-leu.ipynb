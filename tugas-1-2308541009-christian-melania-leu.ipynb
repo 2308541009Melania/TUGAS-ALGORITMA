{
 "cells": [
  {
   "cell_type": "code",
   "execution_count": 1,
   "id": "3abb3abf",
   "metadata": {
    "execution": {
     "iopub.execute_input": "2024-03-19T12:28:33.690431Z",
     "iopub.status.busy": "2024-03-19T12:28:33.690034Z",
     "iopub.status.idle": "2024-03-19T12:28:34.034266Z",
     "shell.execute_reply": "2024-03-19T12:28:34.032918Z"
    },
    "papermill": {
     "duration": 0.351319,
     "end_time": "2024-03-19T12:28:34.036124",
     "exception": true,
     "start_time": "2024-03-19T12:28:33.684805",
     "status": "failed"
    },
    "tags": []
   },
   "outputs": [
    {
     "name": "stdout",
     "output_type": "stream",
     "text": [
      "36 = 3.0 lusin\n"
     ]
    },
    {
     "ename": "StdinNotImplementedError",
     "evalue": "raw_input was called, but this frontend does not support input requests.",
     "output_type": "error",
     "traceback": [
      "\u001b[0;31m---------------------------------------------------------------------------\u001b[0m",
      "\u001b[0;31mStdinNotImplementedError\u001b[0m                  Traceback (most recent call last)",
      "Cell \u001b[0;32mIn[1], line 5\u001b[0m\n\u001b[1;32m      2\u001b[0m jumlah_barang_dalam_lusin \u001b[38;5;241m=\u001b[39m jumlah_barang\u001b[38;5;241m/\u001b[39m\u001b[38;5;241m12\u001b[39m\n\u001b[1;32m      3\u001b[0m \u001b[38;5;28mprint\u001b[39m(\u001b[38;5;124mf\u001b[39m\u001b[38;5;124m'\u001b[39m\u001b[38;5;132;01m{\u001b[39;00mjumlah_barang\u001b[38;5;132;01m}\u001b[39;00m\u001b[38;5;124m = \u001b[39m\u001b[38;5;132;01m{\u001b[39;00mjumlah_barang_dalam_lusin\u001b[38;5;132;01m}\u001b[39;00m\u001b[38;5;124m lusin\u001b[39m\u001b[38;5;124m'\u001b[39m)\n\u001b[0;32m----> 5\u001b[0m harga_satu_barang \u001b[38;5;241m=\u001b[39m \u001b[38;5;28;43minput\u001b[39;49m\u001b[43m(\u001b[49m\u001b[38;5;124;43m\"\u001b[39;49m\u001b[38;5;124;43mberapa harga satu barang?\u001b[39;49m\u001b[38;5;124;43m\"\u001b[39;49m\u001b[43m)\u001b[49m\n\u001b[1;32m      6\u001b[0m total_harga_barang \u001b[38;5;241m=\u001b[39m \u001b[38;5;28mint\u001b[39m(jumlah_barang) \u001b[38;5;241m*\u001b[39m \u001b[38;5;28mint\u001b[39m(harga_satu_barang)\n\u001b[1;32m      7\u001b[0m \u001b[38;5;28mprint\u001b[39m(\u001b[38;5;124m\"\u001b[39m\u001b[38;5;124mJika saya membeli 3 lusin barang maka saya harus membayar sebesar Rp \u001b[39m\u001b[38;5;124m\"\u001b[39m \u001b[38;5;241m+\u001b[39m \u001b[38;5;28mstr\u001b[39m(total_harga_barang))\n",
      "File \u001b[0;32m/opt/conda/lib/python3.10/site-packages/ipykernel/kernelbase.py:1261\u001b[0m, in \u001b[0;36mKernel.raw_input\u001b[0;34m(self, prompt)\u001b[0m\n\u001b[1;32m   1259\u001b[0m \u001b[38;5;28;01mif\u001b[39;00m \u001b[38;5;129;01mnot\u001b[39;00m \u001b[38;5;28mself\u001b[39m\u001b[38;5;241m.\u001b[39m_allow_stdin:\n\u001b[1;32m   1260\u001b[0m     msg \u001b[38;5;241m=\u001b[39m \u001b[38;5;124m\"\u001b[39m\u001b[38;5;124mraw_input was called, but this frontend does not support input requests.\u001b[39m\u001b[38;5;124m\"\u001b[39m\n\u001b[0;32m-> 1261\u001b[0m     \u001b[38;5;28;01mraise\u001b[39;00m StdinNotImplementedError(msg)\n\u001b[1;32m   1262\u001b[0m \u001b[38;5;28;01mreturn\u001b[39;00m \u001b[38;5;28mself\u001b[39m\u001b[38;5;241m.\u001b[39m_input_request(\n\u001b[1;32m   1263\u001b[0m     \u001b[38;5;28mstr\u001b[39m(prompt),\n\u001b[1;32m   1264\u001b[0m     \u001b[38;5;28mself\u001b[39m\u001b[38;5;241m.\u001b[39m_parent_ident[\u001b[38;5;124m\"\u001b[39m\u001b[38;5;124mshell\u001b[39m\u001b[38;5;124m\"\u001b[39m],\n\u001b[1;32m   1265\u001b[0m     \u001b[38;5;28mself\u001b[39m\u001b[38;5;241m.\u001b[39mget_parent(\u001b[38;5;124m\"\u001b[39m\u001b[38;5;124mshell\u001b[39m\u001b[38;5;124m\"\u001b[39m),\n\u001b[1;32m   1266\u001b[0m     password\u001b[38;5;241m=\u001b[39m\u001b[38;5;28;01mFalse\u001b[39;00m,\n\u001b[1;32m   1267\u001b[0m )\n",
      "\u001b[0;31mStdinNotImplementedError\u001b[0m: raw_input was called, but this frontend does not support input requests."
     ]
    }
   ],
   "source": [
    "jumlah_barang = 36\n",
    "jumlah_barang_dalam_lusin = jumlah_barang/12\n",
    "print(f'{jumlah_barang} = {jumlah_barang_dalam_lusin} lusin')\n",
    "\n",
    "harga_satu_barang = input(\"berapa harga satu barang?\")\n",
    "total_harga_barang = int(jumlah_barang) * int(harga_satu_barang)\n",
    "print(\"Jika saya membeli 3 lusin barang maka saya harus membayar sebesar Rp \" + str(total_harga_barang))"
   ]
  },
  {
   "cell_type": "markdown",
   "id": "0a26fe7e",
   "metadata": {
    "papermill": {
     "duration": null,
     "end_time": null,
     "exception": null,
     "start_time": null,
     "status": "pending"
    },
    "tags": []
   },
   "source": []
  },
  {
   "cell_type": "code",
   "execution_count": null,
   "id": "75a64c5f",
   "metadata": {
    "execution": {
     "iopub.execute_input": "2024-03-19T12:27:23.781269Z",
     "iopub.status.busy": "2024-03-19T12:27:23.780916Z",
     "iopub.status.idle": "2024-03-19T12:27:26.517589Z",
     "shell.execute_reply": "2024-03-19T12:27:26.516679Z",
     "shell.execute_reply.started": "2024-03-19T12:27:23.781241Z"
    },
    "papermill": {
     "duration": null,
     "end_time": null,
     "exception": null,
     "start_time": null,
     "status": "pending"
    },
    "tags": []
   },
   "outputs": [],
   "source": [
    "num = int(input(\"Masukkan bilangan=\"))\n",
    "flag = False\n",
    "if num == 1:\n",
    "    print(num, \"adalah bukan bilangan prima\")\n",
    "elif num > 1:\n",
    "    for i in range(2,num):\n",
    "        if num % i == 0:\n",
    "            flag = True\n",
    "        break\n",
    "    if flag:\n",
    "        print(num, \"adalah bukan bilangan prima\")\n",
    "    else:\n",
    "        print(num, \"adalah bilangan prima\")"
   ]
  },
  {
   "cell_type": "code",
   "execution_count": null,
   "id": "52129fbb",
   "metadata": {
    "execution": {
     "iopub.execute_input": "2024-03-19T12:17:50.261908Z",
     "iopub.status.busy": "2024-03-19T12:17:50.261555Z",
     "iopub.status.idle": "2024-03-19T12:17:50.269114Z",
     "shell.execute_reply": "2024-03-19T12:17:50.267966Z",
     "shell.execute_reply.started": "2024-03-19T12:17:50.261881Z"
    },
    "papermill": {
     "duration": null,
     "end_time": null,
     "exception": null,
     "start_time": null,
     "status": "pending"
    },
    "tags": []
   },
   "outputs": [],
   "source": [
    "data = [74,81,70,79,84,72,80]\n",
    "data.sort()\n",
    "terbesar = data[0]\n",
    "for i in range(len(data)):\n",
    "    if data[i] > terbesar:\n",
    "        terbesar = data[i]\n",
    "print(terbesar)\n"
   ]
  },
  {
   "cell_type": "code",
   "execution_count": null,
   "id": "509c7d44",
   "metadata": {
    "execution": {
     "iopub.execute_input": "2024-03-19T12:12:20.436580Z",
     "iopub.status.busy": "2024-03-19T12:12:20.436162Z",
     "iopub.status.idle": "2024-03-19T12:12:43.448506Z",
     "shell.execute_reply": "2024-03-19T12:12:43.447159Z",
     "shell.execute_reply.started": "2024-03-19T12:12:20.436545Z"
    },
    "papermill": {
     "duration": null,
     "end_time": null,
     "exception": null,
     "start_time": null,
     "status": "pending"
    },
    "tags": []
   },
   "outputs": [],
   "source": [
    "tempat = input('masukkan tempat :')\n",
    "tanggal = input ('masukkan tanggal :')\n",
    "bulan = input ('masukkan bulan :')\n",
    "tahun = input ('masukkan tahun : ')\n",
    "print('Saya lahir di ' + str(tempat) + str(tanggal) + str(bulan) + str(tahun))"
   ]
  },
  {
   "cell_type": "code",
   "execution_count": null,
   "id": "1f96a434",
   "metadata": {
    "execution": {
     "iopub.execute_input": "2024-03-19T12:12:48.587478Z",
     "iopub.status.busy": "2024-03-19T12:12:48.586806Z",
     "iopub.status.idle": "2024-03-19T12:12:48.593690Z",
     "shell.execute_reply": "2024-03-19T12:12:48.592214Z",
     "shell.execute_reply.started": "2024-03-19T12:12:48.587444Z"
    },
    "papermill": {
     "duration": null,
     "end_time": null,
     "exception": null,
     "start_time": null,
     "status": "pending"
    },
    "tags": []
   },
   "outputs": [],
   "source": [
    "jarak = 3\n",
    "waktu = 12\n",
    "kecepatan = jarak/waktu\n",
    "print(kecepatan)"
   ]
  },
  {
   "cell_type": "markdown",
   "id": "4421bd96",
   "metadata": {
    "execution": {
     "iopub.execute_input": "2024-03-19T03:36:19.319627Z",
     "iopub.status.busy": "2024-03-19T03:36:19.319239Z"
    },
    "papermill": {
     "duration": null,
     "end_time": null,
     "exception": null,
     "start_time": null,
     "status": "pending"
    },
    "tags": []
   },
   "source": []
  },
  {
   "cell_type": "code",
   "execution_count": null,
   "id": "b7f2fd78",
   "metadata": {
    "execution": {
     "iopub.execute_input": "2024-03-19T12:12:58.173615Z",
     "iopub.status.busy": "2024-03-19T12:12:58.173182Z",
     "iopub.status.idle": "2024-03-19T12:13:07.908114Z",
     "shell.execute_reply": "2024-03-19T12:13:07.907020Z",
     "shell.execute_reply.started": "2024-03-19T12:12:58.173583Z"
    },
    "papermill": {
     "duration": null,
     "end_time": null,
     "exception": null,
     "start_time": null,
     "status": "pending"
    },
    "tags": []
   },
   "outputs": [],
   "source": [
    "def perkalian(num1, num2):\n",
    "    return print(num1 * num2)\n",
    "def pembagian (num1, num2):\n",
    "    return print (num1 / num2)\n",
    "\n",
    "operator = input(\"perkalian/pembagian?\")\n",
    "num1 = float(input())\n",
    "num2 = float(input())\n",
    "if operator == \"perkalian\":\n",
    "    print(perkalian(num1, num2))\n",
    "else:\n",
    "    print(pembagian(num1, num2))\n"
   ]
  },
  {
   "cell_type": "code",
   "execution_count": null,
   "id": "5bd6c3ea",
   "metadata": {
    "execution": {
     "iopub.execute_input": "2024-03-19T12:27:54.562544Z",
     "iopub.status.busy": "2024-03-19T12:27:54.562118Z",
     "iopub.status.idle": "2024-03-19T12:28:10.637592Z",
     "shell.execute_reply": "2024-03-19T12:28:10.636418Z",
     "shell.execute_reply.started": "2024-03-19T12:27:54.562513Z"
    },
    "papermill": {
     "duration": null,
     "end_time": null,
     "exception": null,
     "start_time": null,
     "status": "pending"
    },
    "tags": []
   },
   "outputs": [],
   "source": [
    "kalimat = input(\"Tulis sebuah kalimat\")\n",
    "kata = kalimat.split()\n",
    "kata.sort()\n",
    "print(\"Berikut urutan kata-kata:\")\n",
    "for urut in kata:\n",
    "    print(urut)"
   ]
  }
 ],
 "metadata": {
  "kaggle": {
   "accelerator": "none",
   "dataSources": [],
   "dockerImageVersionId": 30664,
   "isGpuEnabled": false,
   "isInternetEnabled": false,
   "language": "python",
   "sourceType": "notebook"
  },
  "kernelspec": {
   "display_name": "Python 3",
   "language": "python",
   "name": "python3"
  },
  "language_info": {
   "codemirror_mode": {
    "name": "ipython",
    "version": 3
   },
   "file_extension": ".py",
   "mimetype": "text/x-python",
   "name": "python",
   "nbconvert_exporter": "python",
   "pygments_lexer": "ipython3",
   "version": "3.10.13"
  },
  "papermill": {
   "default_parameters": {},
   "duration": 3.271972,
   "end_time": "2024-03-19T12:28:34.463093",
   "environment_variables": {},
   "exception": true,
   "input_path": "__notebook__.ipynb",
   "output_path": "__notebook__.ipynb",
   "parameters": {},
   "start_time": "2024-03-19T12:28:31.191121",
   "version": "2.5.0"
  }
 },
 "nbformat": 4,
 "nbformat_minor": 5
}
