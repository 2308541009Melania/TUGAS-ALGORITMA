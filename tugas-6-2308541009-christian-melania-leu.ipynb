{
 "cells": [
  {
   "cell_type": "code",
   "execution_count": 1,
   "id": "b0e600ab",
   "metadata": {
    "_cell_guid": "b1076dfc-b9ad-4769-8c92-a6c4dae69d19",
    "_uuid": "8f2839f25d086af736a60e9eeb907d3b93b6e0e5",
    "execution": {
     "iopub.execute_input": "2024-04-30T10:44:39.528179Z",
     "iopub.status.busy": "2024-04-30T10:44:39.527843Z",
     "iopub.status.idle": "2024-04-30T10:44:39.777196Z",
     "shell.execute_reply": "2024-04-30T10:44:39.775855Z"
    },
    "papermill": {
     "duration": 0.257157,
     "end_time": "2024-04-30T10:44:39.779159",
     "exception": true,
     "start_time": "2024-04-30T10:44:39.522002",
     "status": "failed"
    },
    "tags": []
   },
   "outputs": [
    {
     "ename": "NameError",
     "evalue": "name 'np' is not defined",
     "output_type": "error",
     "traceback": [
      "\u001b[0;31m---------------------------------------------------------------------------\u001b[0m",
      "\u001b[0;31mNameError\u001b[0m                                 Traceback (most recent call last)",
      "Cell \u001b[0;32mIn[1], line 1\u001b[0m\n\u001b[0;32m----> 1\u001b[0m a_09 \u001b[38;5;241m=\u001b[39m \u001b[43mnp\u001b[49m\u001b[38;5;241m.\u001b[39marray([\u001b[38;5;241m0\u001b[39m,\u001b[38;5;241m-\u001b[39m\u001b[38;5;241m11\u001b[39m,\u001b[38;5;241m4\u001b[39m,\u001b[38;5;241m8\u001b[39m])\n\u001b[1;32m      2\u001b[0m b_09 \u001b[38;5;241m=\u001b[39m np\u001b[38;5;241m.\u001b[39marray([\u001b[38;5;241m2\u001b[39m,\u001b[38;5;241m-\u001b[39m\u001b[38;5;241m17\u001b[39m,\u001b[38;5;241m-\u001b[39m\u001b[38;5;241m21\u001b[39m,\u001b[38;5;241m6\u001b[39m])\n\u001b[1;32m      3\u001b[0m jumlah_09 \u001b[38;5;241m=\u001b[39m a_09 \u001b[38;5;241m+\u001b[39m b_09\n",
      "\u001b[0;31mNameError\u001b[0m: name 'np' is not defined"
     ]
    }
   ],
   "source": [
    "a_09 = np.array([0,-11,4,8])\n",
    "b_09 = np.array([2,-17,-21,6])\n",
    "jumlah_09 = a_09 + b_09\n",
    "selisih_09 = b_09 - a_09\n",
    "print(a_09)\n",
    "print(b_09)\n",
    "\n"
   ]
  },
  {
   "cell_type": "code",
   "execution_count": null,
   "id": "9adb031d",
   "metadata": {
    "execution": {
     "iopub.execute_input": "2024-04-30T09:42:45.151093Z",
     "iopub.status.busy": "2024-04-30T09:42:45.150281Z",
     "iopub.status.idle": "2024-04-30T09:42:45.156486Z",
     "shell.execute_reply": "2024-04-30T09:42:45.155281Z",
     "shell.execute_reply.started": "2024-04-30T09:42:45.151057Z"
    },
    "papermill": {
     "duration": null,
     "end_time": null,
     "exception": null,
     "start_time": null,
     "status": "pending"
    },
    "tags": []
   },
   "outputs": [],
   "source": [
    "print(jumlah_09)\n",
    "print(selisih_09)"
   ]
  },
  {
   "cell_type": "code",
   "execution_count": null,
   "id": "340719ef",
   "metadata": {
    "execution": {
     "iopub.execute_input": "2024-04-30T09:44:34.419947Z",
     "iopub.status.busy": "2024-04-30T09:44:34.419531Z",
     "iopub.status.idle": "2024-04-30T09:44:34.426236Z",
     "shell.execute_reply": "2024-04-30T09:44:34.425079Z",
     "shell.execute_reply.started": "2024-04-30T09:44:34.419886Z"
    },
    "papermill": {
     "duration": null,
     "end_time": null,
     "exception": null,
     "start_time": null,
     "status": "pending"
    },
    "tags": []
   },
   "outputs": [],
   "source": [
    "c_09 = np.array([[9,1,-3,4],\n",
    "                 [-20,16,9,-5],\n",
    "                 [15,8,16,-7]])\n",
    "print(c_09)"
   ]
  },
  {
   "cell_type": "code",
   "execution_count": null,
   "id": "d02a6412",
   "metadata": {
    "execution": {
     "iopub.execute_input": "2024-04-30T10:02:02.305430Z",
     "iopub.status.busy": "2024-04-30T10:02:02.305017Z",
     "iopub.status.idle": "2024-04-30T10:02:02.311343Z",
     "shell.execute_reply": "2024-04-30T10:02:02.310117Z",
     "shell.execute_reply.started": "2024-04-30T10:02:02.305401Z"
    },
    "papermill": {
     "duration": null,
     "end_time": null,
     "exception": null,
     "start_time": null,
     "status": "pending"
    },
    "tags": []
   },
   "outputs": [],
   "source": [
    "print(\"Baris 2:\",c_09[1])\n",
    "print(\"Baris 3:\",c_09[0])"
   ]
  },
  {
   "cell_type": "code",
   "execution_count": null,
   "id": "7d51fa63",
   "metadata": {
    "execution": {
     "iopub.execute_input": "2024-04-30T10:03:50.215719Z",
     "iopub.status.busy": "2024-04-30T10:03:50.215316Z",
     "iopub.status.idle": "2024-04-30T10:03:50.221792Z",
     "shell.execute_reply": "2024-04-30T10:03:50.220608Z",
     "shell.execute_reply.started": "2024-04-30T10:03:50.215688Z"
    },
    "papermill": {
     "duration": null,
     "end_time": null,
     "exception": null,
     "start_time": null,
     "status": "pending"
    },
    "tags": []
   },
   "outputs": [],
   "source": [
    "print('Kolom 1:',c_09[0])\n",
    "print('Kolom 2:',c_09[2])"
   ]
  },
  {
   "cell_type": "code",
   "execution_count": null,
   "id": "004f25f6",
   "metadata": {
    "execution": {
     "iopub.execute_input": "2024-04-30T10:09:34.342242Z",
     "iopub.status.busy": "2024-04-30T10:09:34.341862Z",
     "iopub.status.idle": "2024-04-30T10:09:34.349367Z",
     "shell.execute_reply": "2024-04-30T10:09:34.348212Z",
     "shell.execute_reply.started": "2024-04-30T10:09:34.342214Z"
    },
    "papermill": {
     "duration": null,
     "end_time": null,
     "exception": null,
     "start_time": null,
     "status": "pending"
    },
    "tags": []
   },
   "outputs": [],
   "source": [
    "np.full((3,4),12)\n"
   ]
  },
  {
   "cell_type": "code",
   "execution_count": null,
   "id": "1e6133d7",
   "metadata": {
    "execution": {
     "iopub.execute_input": "2024-04-30T10:29:04.559447Z",
     "iopub.status.busy": "2024-04-30T10:29:04.558726Z",
     "iopub.status.idle": "2024-04-30T10:29:04.565676Z",
     "shell.execute_reply": "2024-04-30T10:29:04.564556Z",
     "shell.execute_reply.started": "2024-04-30T10:29:04.559410Z"
    },
    "papermill": {
     "duration": null,
     "end_time": null,
     "exception": null,
     "start_time": null,
     "status": "pending"
    },
    "tags": []
   },
   "outputs": [],
   "source": [
    "a_09 = np.array([6,9,12,15])\n",
    "b_09 = np.array([17,9,4,14])\n",
    "print(a_09)\n",
    "print(b_09)"
   ]
  },
  {
   "cell_type": "code",
   "execution_count": null,
   "id": "44e74102",
   "metadata": {
    "execution": {
     "iopub.execute_input": "2024-04-30T10:27:51.445530Z",
     "iopub.status.busy": "2024-04-30T10:27:51.445151Z",
     "iopub.status.idle": "2024-04-30T10:27:51.451264Z",
     "shell.execute_reply": "2024-04-30T10:27:51.450108Z",
     "shell.execute_reply.started": "2024-04-30T10:27:51.445499Z"
    },
    "papermill": {
     "duration": null,
     "end_time": null,
     "exception": null,
     "start_time": null,
     "status": "pending"
    },
    "tags": []
   },
   "outputs": [],
   "source": [
    "b_09 = a_09.copy()\n",
    "print(b)"
   ]
  },
  {
   "cell_type": "code",
   "execution_count": null,
   "id": "6664b087",
   "metadata": {
    "execution": {
     "iopub.execute_input": "2024-04-30T10:32:40.963466Z",
     "iopub.status.busy": "2024-04-30T10:32:40.963067Z",
     "iopub.status.idle": "2024-04-30T10:32:40.969541Z",
     "shell.execute_reply": "2024-04-30T10:32:40.968576Z",
     "shell.execute_reply.started": "2024-04-30T10:32:40.963435Z"
    },
    "papermill": {
     "duration": null,
     "end_time": null,
     "exception": null,
     "start_time": null,
     "status": "pending"
    },
    "tags": []
   },
   "outputs": [],
   "source": [
    "c_09 = a_09 * b_09\n",
    "d_09= (a_09 ** 2)/2\n",
    "print(c_09)\n",
    "print(d_09)"
   ]
  },
  {
   "cell_type": "code",
   "execution_count": null,
   "id": "1f16b8dd",
   "metadata": {
    "execution": {
     "iopub.execute_input": "2024-04-30T10:34:37.399735Z",
     "iopub.status.busy": "2024-04-30T10:34:37.399351Z",
     "iopub.status.idle": "2024-04-30T10:34:37.405244Z",
     "shell.execute_reply": "2024-04-30T10:34:37.404100Z",
     "shell.execute_reply.started": "2024-04-30T10:34:37.399701Z"
    },
    "papermill": {
     "duration": null,
     "end_time": null,
     "exception": null,
     "start_time": null,
     "status": "pending"
    },
    "tags": []
   },
   "outputs": [],
   "source": [
    "e_09 = np.min(b_09)\n",
    "print(e)"
   ]
  },
  {
   "cell_type": "code",
   "execution_count": null,
   "id": "32cd6bdc",
   "metadata": {
    "execution": {
     "iopub.execute_input": "2024-04-30T10:35:32.595442Z",
     "iopub.status.busy": "2024-04-30T10:35:32.595042Z",
     "iopub.status.idle": "2024-04-30T10:35:32.600671Z",
     "shell.execute_reply": "2024-04-30T10:35:32.599500Z",
     "shell.execute_reply.started": "2024-04-30T10:35:32.595409Z"
    },
    "papermill": {
     "duration": null,
     "end_time": null,
     "exception": null,
     "start_time": null,
     "status": "pending"
    },
    "tags": []
   },
   "outputs": [],
   "source": [
    "f_09 = np.sum(a)\n",
    "print(f)"
   ]
  },
  {
   "cell_type": "code",
   "execution_count": null,
   "id": "e4a0b9d3",
   "metadata": {
    "execution": {
     "iopub.execute_input": "2024-04-30T10:44:28.044402Z",
     "iopub.status.busy": "2024-04-30T10:44:28.044008Z",
     "iopub.status.idle": "2024-04-30T10:44:28.051446Z",
     "shell.execute_reply": "2024-04-30T10:44:28.050349Z",
     "shell.execute_reply.started": "2024-04-30T10:44:28.044370Z"
    },
    "papermill": {
     "duration": null,
     "end_time": null,
     "exception": null,
     "start_time": null,
     "status": "pending"
    },
    "tags": []
   },
   "outputs": [],
   "source": [
    "np.cos(a)\n"
   ]
  }
 ],
 "metadata": {
  "kaggle": {
   "accelerator": "none",
   "dataSources": [],
   "dockerImageVersionId": 30698,
   "isGpuEnabled": false,
   "isInternetEnabled": false,
   "language": "python",
   "sourceType": "notebook"
  },
  "kernelspec": {
   "display_name": "Python 3",
   "language": "python",
   "name": "python3"
  },
  "language_info": {
   "codemirror_mode": {
    "name": "ipython",
    "version": 3
   },
   "file_extension": ".py",
   "mimetype": "text/x-python",
   "name": "python",
   "nbconvert_exporter": "python",
   "pygments_lexer": "ipython3",
   "version": "3.10.13"
  },
  "papermill": {
   "default_parameters": {},
   "duration": 2.922781,
   "end_time": "2024-04-30T10:44:40.201540",
   "environment_variables": {},
   "exception": true,
   "input_path": "__notebook__.ipynb",
   "output_path": "__notebook__.ipynb",
   "parameters": {},
   "start_time": "2024-04-30T10:44:37.278759",
   "version": "2.5.0"
  }
 },
 "nbformat": 4,
 "nbformat_minor": 5
}
