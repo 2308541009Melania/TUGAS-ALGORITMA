{
 "cells": [
  {
   "cell_type": "markdown",
   "id": "66c19ea5",
   "metadata": {
    "papermill": {
     "duration": 0.004538,
     "end_time": "2024-03-24T06:23:53.011606",
     "exception": false,
     "start_time": "2024-03-24T06:23:53.007068",
     "status": "completed"
    },
    "tags": []
   },
   "source": []
  },
  {
   "cell_type": "code",
   "execution_count": 1,
   "id": "da73bef8",
   "metadata": {
    "execution": {
     "iopub.execute_input": "2024-03-24T06:23:53.022112Z",
     "iopub.status.busy": "2024-03-24T06:23:53.021438Z",
     "iopub.status.idle": "2024-03-24T06:23:53.603694Z",
     "shell.execute_reply": "2024-03-24T06:23:53.601975Z"
    },
    "papermill": {
     "duration": 0.590401,
     "end_time": "2024-03-24T06:23:53.606286",
     "exception": true,
     "start_time": "2024-03-24T06:23:53.015885",
     "status": "failed"
    },
    "tags": []
   },
   "outputs": [
    {
     "ename": "StdinNotImplementedError",
     "evalue": "raw_input was called, but this frontend does not support input requests.",
     "output_type": "error",
     "traceback": [
      "\u001b[0;31m---------------------------------------------------------------------------\u001b[0m",
      "\u001b[0;31mStdinNotImplementedError\u001b[0m                  Traceback (most recent call last)",
      "Cell \u001b[0;32mIn[1], line 1\u001b[0m\n\u001b[0;32m----> 1\u001b[0m panjang \u001b[38;5;241m=\u001b[39m \u001b[38;5;28;43minput\u001b[39;49m\u001b[43m(\u001b[49m\u001b[38;5;124;43m\"\u001b[39;49m\u001b[38;5;124;43mBerapakah panjang balok tersebut? \u001b[39;49m\u001b[38;5;124;43m\"\u001b[39;49m\u001b[43m)\u001b[49m\n\u001b[1;32m      2\u001b[0m lebar \u001b[38;5;241m=\u001b[39m \u001b[38;5;28minput\u001b[39m(\u001b[38;5;124m\"\u001b[39m\u001b[38;5;124mBerapakah lebar balok tersebut? \u001b[39m\u001b[38;5;124m\"\u001b[39m)\n\u001b[1;32m      3\u001b[0m tinggi \u001b[38;5;241m=\u001b[39m \u001b[38;5;28minput\u001b[39m(\u001b[38;5;124m'\u001b[39m\u001b[38;5;124mBerapakah tinggi balok tersebut? \u001b[39m\u001b[38;5;124m'\u001b[39m)\n",
      "File \u001b[0;32m/opt/conda/lib/python3.10/site-packages/ipykernel/kernelbase.py:1261\u001b[0m, in \u001b[0;36mKernel.raw_input\u001b[0;34m(self, prompt)\u001b[0m\n\u001b[1;32m   1259\u001b[0m \u001b[38;5;28;01mif\u001b[39;00m \u001b[38;5;129;01mnot\u001b[39;00m \u001b[38;5;28mself\u001b[39m\u001b[38;5;241m.\u001b[39m_allow_stdin:\n\u001b[1;32m   1260\u001b[0m     msg \u001b[38;5;241m=\u001b[39m \u001b[38;5;124m\"\u001b[39m\u001b[38;5;124mraw_input was called, but this frontend does not support input requests.\u001b[39m\u001b[38;5;124m\"\u001b[39m\n\u001b[0;32m-> 1261\u001b[0m     \u001b[38;5;28;01mraise\u001b[39;00m StdinNotImplementedError(msg)\n\u001b[1;32m   1262\u001b[0m \u001b[38;5;28;01mreturn\u001b[39;00m \u001b[38;5;28mself\u001b[39m\u001b[38;5;241m.\u001b[39m_input_request(\n\u001b[1;32m   1263\u001b[0m     \u001b[38;5;28mstr\u001b[39m(prompt),\n\u001b[1;32m   1264\u001b[0m     \u001b[38;5;28mself\u001b[39m\u001b[38;5;241m.\u001b[39m_parent_ident[\u001b[38;5;124m\"\u001b[39m\u001b[38;5;124mshell\u001b[39m\u001b[38;5;124m\"\u001b[39m],\n\u001b[1;32m   1265\u001b[0m     \u001b[38;5;28mself\u001b[39m\u001b[38;5;241m.\u001b[39mget_parent(\u001b[38;5;124m\"\u001b[39m\u001b[38;5;124mshell\u001b[39m\u001b[38;5;124m\"\u001b[39m),\n\u001b[1;32m   1266\u001b[0m     password\u001b[38;5;241m=\u001b[39m\u001b[38;5;28;01mFalse\u001b[39;00m,\n\u001b[1;32m   1267\u001b[0m )\n",
      "\u001b[0;31mStdinNotImplementedError\u001b[0m: raw_input was called, but this frontend does not support input requests."
     ]
    }
   ],
   "source": [
    "panjang = input(\"Berapakah panjang balok tersebut? \")\n",
    "lebar = input(\"Berapakah lebar balok tersebut? \")\n",
    "tinggi = input('Berapakah tinggi balok tersebut? ')\n",
    "volume_balok = int(panjang) * int(lebar) * int(tinggi)\n",
    "print(\"Volume balok tersebut adalah \" + str(volume_balok) + \" cm\")\n"
   ]
  },
  {
   "cell_type": "code",
   "execution_count": null,
   "id": "da27d34b",
   "metadata": {
    "execution": {
     "iopub.execute_input": "2024-03-24T06:13:11.188378Z",
     "iopub.status.busy": "2024-03-24T06:13:11.187994Z",
     "iopub.status.idle": "2024-03-24T06:13:11.195372Z",
     "shell.execute_reply": "2024-03-24T06:13:11.194081Z",
     "shell.execute_reply.started": "2024-03-24T06:13:11.188349Z"
    },
    "papermill": {
     "duration": null,
     "end_time": null,
     "exception": null,
     "start_time": null,
     "status": "pending"
    },
    "tags": []
   },
   "outputs": [],
   "source": [
    "panjang_balok = 15\n",
    "lebar_balok = 12\n",
    "tinggi_balok = 10\n",
    "print(panjang_balok > 12 or tinggi_balok < 7)\n",
    "print(lebar_balok > 11 and tinggi_balok != 12)"
   ]
  },
  {
   "cell_type": "code",
   "execution_count": null,
   "id": "055af4ae",
   "metadata": {
    "execution": {
     "iopub.execute_input": "2024-03-24T06:14:37.298676Z",
     "iopub.status.busy": "2024-03-24T06:14:37.298273Z",
     "iopub.status.idle": "2024-03-24T06:14:37.306536Z",
     "shell.execute_reply": "2024-03-24T06:14:37.305307Z",
     "shell.execute_reply.started": "2024-03-24T06:14:37.298646Z"
    },
    "papermill": {
     "duration": null,
     "end_time": null,
     "exception": null,
     "start_time": null,
     "status": "pending"
    },
    "tags": []
   },
   "outputs": [],
   "source": [
    "nilai_samson = 90\n",
    "nilai_melan = 100\n",
    "nilai_kristin = 92\n",
    "nilai_intan = 90\n",
    "nilai_tores = 97\n",
    "banyaknya_data = 5\n",
    "jumlah_seluruh_nilai = float(nilai_samson) + float(nilai_melan) + float(nilai_kristin) + float(nilai_intan) + float(nilai_tores)\n",
    "mean = int(jumlah_seluruh_nilai) / int(banyaknya_data)\n",
    "print('Rata-rata nilai kelas 1 adalah ' + str(mean))\n"
   ]
  },
  {
   "cell_type": "code",
   "execution_count": null,
   "id": "4dd92ee2",
   "metadata": {
    "execution": {
     "iopub.execute_input": "2024-03-24T06:19:25.426967Z",
     "iopub.status.busy": "2024-03-24T06:19:25.426548Z",
     "iopub.status.idle": "2024-03-24T06:19:34.458940Z",
     "shell.execute_reply": "2024-03-24T06:19:34.457719Z",
     "shell.execute_reply.started": "2024-03-24T06:19:25.426931Z"
    },
    "papermill": {
     "duration": null,
     "end_time": null,
     "exception": null,
     "start_time": null,
     "status": "pending"
    },
    "tags": []
   },
   "outputs": [],
   "source": [
    "nama = \"Kristiani\"\n",
    "hobi = input(\"apa hobi Kristiani?\") \n",
    "minuman = 'teh'\n",
    "print(f\"{nama} suka {hobi} pidato sambil minum {minuman} panas bersama temannya.\")\n"
   ]
  },
  {
   "cell_type": "code",
   "execution_count": null,
   "id": "eb572e71",
   "metadata": {
    "execution": {
     "iopub.execute_input": "2024-03-24T06:23:06.345306Z",
     "iopub.status.busy": "2024-03-24T06:23:06.344946Z",
     "iopub.status.idle": "2024-03-24T06:23:16.124292Z",
     "shell.execute_reply": "2024-03-24T06:23:16.123084Z",
     "shell.execute_reply.started": "2024-03-24T06:23:06.345279Z"
    },
    "papermill": {
     "duration": null,
     "end_time": null,
     "exception": null,
     "start_time": null,
     "status": "pending"
    },
    "tags": []
   },
   "outputs": [],
   "source": [
    "hobi = input(\"apa hobi anda sekarang? \")\n",
    "sikap = 'kesabaran'\n",
    "print('Saya ' + hobi[:] + \" melalui kaggle\")\n",
    "print(\"Mempelajari \" + hobi[7: ] + \" butuh \" + \"sikap \" + sikap[2:7] + ' dan perlu teliti')\n"
   ]
  },
  {
   "cell_type": "markdown",
   "id": "a5f897cd",
   "metadata": {
    "papermill": {
     "duration": null,
     "end_time": null,
     "exception": null,
     "start_time": null,
     "status": "pending"
    },
    "tags": []
   },
   "source": []
  },
  {
   "cell_type": "markdown",
   "id": "514289bb",
   "metadata": {
    "papermill": {
     "duration": null,
     "end_time": null,
     "exception": null,
     "start_time": null,
     "status": "pending"
    },
    "tags": []
   },
   "source": []
  }
 ],
 "metadata": {
  "kaggle": {
   "accelerator": "none",
   "dataSources": [],
   "dockerImageVersionId": 30673,
   "isGpuEnabled": false,
   "isInternetEnabled": false,
   "language": "python",
   "sourceType": "notebook"
  },
  "kernelspec": {
   "display_name": "Python 3",
   "language": "python",
   "name": "python3"
  },
  "language_info": {
   "codemirror_mode": {
    "name": "ipython",
    "version": 3
   },
   "file_extension": ".py",
   "mimetype": "text/x-python",
   "name": "python",
   "nbconvert_exporter": "python",
   "pygments_lexer": "ipython3",
   "version": "3.10.13"
  },
  "papermill": {
   "default_parameters": {},
   "duration": 4.788905,
   "end_time": "2024-03-24T06:23:54.235050",
   "environment_variables": {},
   "exception": true,
   "input_path": "__notebook__.ipynb",
   "output_path": "__notebook__.ipynb",
   "parameters": {},
   "start_time": "2024-03-24T06:23:49.446145",
   "version": "2.5.0"
  }
 },
 "nbformat": 4,
 "nbformat_minor": 5
}
