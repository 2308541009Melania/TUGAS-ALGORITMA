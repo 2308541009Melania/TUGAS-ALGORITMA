{
 "cells": [
  {
   "cell_type": "code",
   "execution_count": 1,
   "id": "7b7dc031",
   "metadata": {
    "execution": {
     "iopub.execute_input": "2024-03-30T17:12:45.546042Z",
     "iopub.status.busy": "2024-03-30T17:12:45.544891Z",
     "iopub.status.idle": "2024-03-30T17:12:46.142549Z",
     "shell.execute_reply": "2024-03-30T17:12:46.140539Z"
    },
    "papermill": {
     "duration": 0.605731,
     "end_time": "2024-03-30T17:12:46.144735",
     "exception": true,
     "start_time": "2024-03-30T17:12:45.539004",
     "status": "failed"
    },
    "tags": []
   },
   "outputs": [
    {
     "ename": "StdinNotImplementedError",
     "evalue": "raw_input was called, but this frontend does not support input requests.",
     "output_type": "error",
     "traceback": [
      "\u001b[0;31m---------------------------------------------------------------------------\u001b[0m",
      "\u001b[0;31mStdinNotImplementedError\u001b[0m                  Traceback (most recent call last)",
      "Cell \u001b[0;32mIn[1], line 2\u001b[0m\n\u001b[1;32m      1\u001b[0m harga_apel_per_buah \u001b[38;5;241m=\u001b[39m \u001b[38;5;241m6.000\u001b[39m\n\u001b[0;32m----> 2\u001b[0m jumlah_apel \u001b[38;5;241m=\u001b[39m \u001b[38;5;28mfloat\u001b[39m(\u001b[38;5;28;43minput\u001b[39;49m\u001b[43m(\u001b[49m\u001b[38;5;124;43m'\u001b[39;49m\u001b[38;5;124;43mMasukkan jumlah apel\u001b[39;49m\u001b[38;5;124;43m'\u001b[39;49m\u001b[43m)\u001b[49m)\n\u001b[1;32m      3\u001b[0m total_harga_apel \u001b[38;5;241m=\u001b[39m \u001b[38;5;28mint\u001b[39m(harga_apel_per_buah) \u001b[38;5;241m*\u001b[39m \u001b[38;5;28mint\u001b[39m(jumlah_apel)\n\u001b[1;32m      4\u001b[0m \u001b[38;5;28;01mif\u001b[39;00m total_harga_apel \u001b[38;5;241m>\u001b[39m\u001b[38;5;241m=\u001b[39m \u001b[38;5;241m55.000\u001b[39m:\n",
      "File \u001b[0;32m/opt/conda/lib/python3.10/site-packages/ipykernel/kernelbase.py:1261\u001b[0m, in \u001b[0;36mKernel.raw_input\u001b[0;34m(self, prompt)\u001b[0m\n\u001b[1;32m   1259\u001b[0m \u001b[38;5;28;01mif\u001b[39;00m \u001b[38;5;129;01mnot\u001b[39;00m \u001b[38;5;28mself\u001b[39m\u001b[38;5;241m.\u001b[39m_allow_stdin:\n\u001b[1;32m   1260\u001b[0m     msg \u001b[38;5;241m=\u001b[39m \u001b[38;5;124m\"\u001b[39m\u001b[38;5;124mraw_input was called, but this frontend does not support input requests.\u001b[39m\u001b[38;5;124m\"\u001b[39m\n\u001b[0;32m-> 1261\u001b[0m     \u001b[38;5;28;01mraise\u001b[39;00m StdinNotImplementedError(msg)\n\u001b[1;32m   1262\u001b[0m \u001b[38;5;28;01mreturn\u001b[39;00m \u001b[38;5;28mself\u001b[39m\u001b[38;5;241m.\u001b[39m_input_request(\n\u001b[1;32m   1263\u001b[0m     \u001b[38;5;28mstr\u001b[39m(prompt),\n\u001b[1;32m   1264\u001b[0m     \u001b[38;5;28mself\u001b[39m\u001b[38;5;241m.\u001b[39m_parent_ident[\u001b[38;5;124m\"\u001b[39m\u001b[38;5;124mshell\u001b[39m\u001b[38;5;124m\"\u001b[39m],\n\u001b[1;32m   1265\u001b[0m     \u001b[38;5;28mself\u001b[39m\u001b[38;5;241m.\u001b[39mget_parent(\u001b[38;5;124m\"\u001b[39m\u001b[38;5;124mshell\u001b[39m\u001b[38;5;124m\"\u001b[39m),\n\u001b[1;32m   1266\u001b[0m     password\u001b[38;5;241m=\u001b[39m\u001b[38;5;28;01mFalse\u001b[39;00m,\n\u001b[1;32m   1267\u001b[0m )\n",
      "\u001b[0;31mStdinNotImplementedError\u001b[0m: raw_input was called, but this frontend does not support input requests."
     ]
    }
   ],
   "source": [
    "harga_apel_per_buah = 6.000\n",
    "jumlah_apel = float(input('Masukkan jumlah apel'))\n",
    "total_harga_apel = int(harga_apel_per_buah) * int(jumlah_apel)\n",
    "if total_harga_apel >= 55.000:\n",
    "    diskon = 0.05\n",
    "    print(f'Anda mendapatkan diskon {diskon*100}%')\n",
    "elif total_harga_apel >= 50.000:\n",
    "    diskon = 0.03\n",
    "    print(f\"Anda mendapatkan diskon {diskon*100}%\")\n",
    "elif total_harga_apel >= 47.000:\n",
    "    diskon = 0.02\n",
    "    print(f\"Anda mendapatkan diskon {diskon*100}%\")\n",
    "else:\n",
    "    diskon = 0\n",
    "    print(f'Maaf, anda tidak mendapatkan diskon.')\n",
    "    \n",
    "total_bayar = total_harga_apel - (total_harga_apel * diskon)\n",
    "print(f'Jadi,total harga seluruhnya adalah Rp {total_bayar}')\n"
   ]
  },
  {
   "cell_type": "code",
   "execution_count": null,
   "id": "6b0a0d7d",
   "metadata": {
    "_cell_guid": "b1076dfc-b9ad-4769-8c92-a6c4dae69d19",
    "_uuid": "8f2839f25d086af736a60e9eeb907d3b93b6e0e5",
    "execution": {
     "iopub.execute_input": "2024-03-30T12:20:03.559806Z",
     "iopub.status.busy": "2024-03-30T12:20:03.559291Z",
     "iopub.status.idle": "2024-03-30T12:20:14.160068Z",
     "shell.execute_reply": "2024-03-30T12:20:14.158891Z",
     "shell.execute_reply.started": "2024-03-30T12:20:03.559773Z"
    },
    "papermill": {
     "duration": null,
     "end_time": null,
     "exception": null,
     "start_time": null,
     "status": "pending"
    },
    "tags": []
   },
   "outputs": [],
   "source": [
    "berat_badan = float(input('Berapakah berat badan anda?'))\n",
    "tinggi_badan = float(input(\"Berapakah tinggi badan anda?\"))\n",
    "if berat_badan <= 44 and tinggi_badan >= 164:\n",
    "    kategori = ' Kurus'\n",
    "elif berat_badan <= 48 and tinggi_badan <= 160:\n",
    "    kategori = ' Normal'\n",
    "else:\n",
    "    kategori = ' Gemuk'\n",
    "print(f\"Kategori berat badan dan tinggi badan anda adalah{kategori}\")"
   ]
  },
  {
   "cell_type": "code",
   "execution_count": null,
   "id": "ce91bf29",
   "metadata": {
    "execution": {
     "iopub.execute_input": "2024-03-30T17:12:25.208257Z",
     "iopub.status.busy": "2024-03-30T17:12:25.207829Z",
     "iopub.status.idle": "2024-03-30T17:12:25.216047Z",
     "shell.execute_reply": "2024-03-30T17:12:25.214974Z",
     "shell.execute_reply.started": "2024-03-30T17:12:25.208224Z"
    },
    "papermill": {
     "duration": null,
     "end_time": null,
     "exception": null,
     "start_time": null,
     "status": "pending"
    },
    "tags": []
   },
   "outputs": [],
   "source": [
    "i = 1\n",
    "while i <= 12:\n",
    "    print(i,' + ',i ,' = ',i+i)\n",
    "    if i == 8:\n",
    "        break\n",
    "    i += 1\n",
    "    "
   ]
  }
 ],
 "metadata": {
  "kaggle": {
   "accelerator": "none",
   "dataSources": [],
   "dockerImageVersionId": 30673,
   "isGpuEnabled": false,
   "isInternetEnabled": false,
   "language": "python",
   "sourceType": "notebook"
  },
  "kernelspec": {
   "display_name": "Python 3",
   "language": "python",
   "name": "python3"
  },
  "language_info": {
   "codemirror_mode": {
    "name": "ipython",
    "version": 3
   },
   "file_extension": ".py",
   "mimetype": "text/x-python",
   "name": "python",
   "nbconvert_exporter": "python",
   "pygments_lexer": "ipython3",
   "version": "3.10.13"
  },
  "papermill": {
   "default_parameters": {},
   "duration": 4.959017,
   "end_time": "2024-03-30T17:12:46.772462",
   "environment_variables": {},
   "exception": true,
   "input_path": "__notebook__.ipynb",
   "output_path": "__notebook__.ipynb",
   "parameters": {},
   "start_time": "2024-03-30T17:12:41.813445",
   "version": "2.5.0"
  }
 },
 "nbformat": 4,
 "nbformat_minor": 5
}
